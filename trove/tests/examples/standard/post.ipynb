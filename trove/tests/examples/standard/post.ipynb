{
 "cells": [
  {
   "cell_type": "code",
   "execution_count": null,
   "id": "2a25cdd0",
   "metadata": {},
   "outputs": [],
   "source": [
    "import h5py\n",
    "import numpy as np\n",
    "import os"
   ]
  },
  {
   "cell_type": "code",
   "execution_count": null,
   "id": "1d791830",
   "metadata": {},
   "outputs": [],
   "source": [
    "import matplotlib.pyplot as plt"
   ]
  },
  {
   "cell_type": "code",
   "execution_count": null,
   "id": "23bfd137",
   "metadata": {},
   "outputs": [],
   "source": [
    "import trove.build"
   ]
  },
  {
   "cell_type": "markdown",
   "id": "1a8b2d0e",
   "metadata": {},
   "source": [
    "# Parameters"
   ]
  },
  {
   "cell_type": "code",
   "execution_count": null,
   "id": "fb5ff6b9",
   "metadata": {},
   "outputs": [],
   "source": [
    "pm = trove.build.link_params_to_config(\n",
    "    config_fp = sys.argv[1],\n",
    ")"
   ]
  },
  {
   "cell_type": "markdown",
   "id": "da236a06",
   "metadata": {},
   "source": [
    "# Load Data"
   ]
  },
  {
   "cell_type": "code",
   "execution_count": null,
   "id": "7dd01c4a",
   "metadata": {},
   "outputs": [],
   "source": [
    "pre_fp = os.path.join( pm['used_data_dir'], 'pre.hdf5' )\n",
    "pre = h5py.File( pre_fp, 'r' )"
   ]
  },
  {
   "cell_type": "code",
   "execution_count": null,
   "id": "6a5b95a1",
   "metadata": {},
   "outputs": [],
   "source": [
    "main_fp = os.path.join( pm['used_data_dir'], 'main.hdf5' )\n",
    "main = h5py.File( pre_fp, 'r' )"
   ]
  },
  {
   "cell_type": "markdown",
   "id": "749f8295",
   "metadata": {},
   "source": [
    "# Analysis\n",
    "\n",
    "We'd like to compare the distribution of last digits pre- and post-raised to a power."
   ]
  },
  {
   "cell_type": "code",
   "execution_count": null,
   "id": "aa8bf912",
   "metadata": {},
   "outputs": [],
   "source": [
    "rounded = np.floor( pre['numbers'][...] )"
   ]
  },
  {
   "cell_type": "code",
   "execution_count": null,
   "id": "d02ab414",
   "metadata": {},
   "outputs": [],
   "source": [
    "rounded_raised = np.floor( main['numbers'][...] )"
   ]
  },
  {
   "cell_type": "code",
   "execution_count": null,
   "id": "4e9d6c9e",
   "metadata": {},
   "outputs": [],
   "source": [
    "plt.scatter(\n",
    "    rounded,\n",
    "    rounded_raised\n",
    ")"
   ]
  },
  {
   "cell_type": "code",
   "execution_count": null,
   "id": "93485947",
   "metadata": {},
   "outputs": [],
   "source": [
    "last = np.array([ _[-1] for _ in rounded.astype( int ).astype( str ) ]).astype( int )\n",
    "last_raised = np.array([ _[-1] for _ in rounded_raised.astype( int ).astype( str ) ]).astype( int )"
   ]
  },
  {
   "cell_type": "code",
   "execution_count": null,
   "id": "884755cd",
   "metadata": {},
   "outputs": [],
   "source": [
    "fig = plt.figure()\n",
    "ax = plt.gca()\n",
    "\n",
    "_ = ax.hist(\n",
    "    last,\n",
    "    bins = np.linspace( 0.5, 9.5, 10 ),\n",
    "    histtype = 'step',\n",
    "    linewidth = 10,\n",
    "    color = 'b',\n",
    ")\n",
    "\n",
    "_ = ax.hist(\n",
    "    last_raised,\n",
    "    bins = np.linspace( 0.5, 9.5, 10 ),\n",
    "    histtype = 'step',\n",
    "    linewidth = 3,\n",
    "    color = 'r',\n",
    ")\n",
    "\n",
    "os.makedirs( pm['figure_dir'], exist_ok=True )\n",
    "savefile = os.path.join( pm['figure_dir'], 'last_digits_{}.pdf'.format( os.path.basename( pm['used_data_dir'] ) ) )\n",
    "plt.savefig( savefile, bbox_inches='tight' )"
   ]
  }
 ],
 "metadata": {
  "kernelspec": {
   "display_name": "Python 3",
   "language": "python",
   "name": "python3"
  },
  "language_info": {
   "codemirror_mode": {
    "name": "ipython",
    "version": 3
   },
   "file_extension": ".py",
   "mimetype": "text/x-python",
   "name": "python",
   "nbconvert_exporter": "python",
   "pygments_lexer": "ipython3",
   "version": "3.8.3"
  }
 },
 "nbformat": 4,
 "nbformat_minor": 5
}
