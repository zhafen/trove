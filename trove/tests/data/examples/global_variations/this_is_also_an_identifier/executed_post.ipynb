{
 "cells": [
  {
   "cell_type": "code",
   "execution_count": 1,
   "id": "9ec364b0",
   "metadata": {
    "execution": {
     "iopub.execute_input": "2021-04-23T23:57:05.611579Z",
     "iopub.status.busy": "2021-04-23T23:57:05.610823Z",
     "iopub.status.idle": "2021-04-23T23:57:05.718493Z",
     "shell.execute_reply": "2021-04-23T23:57:05.718904Z"
    }
   },
   "outputs": [],
   "source": [
    "import h5py\n",
    "import numpy as np\n",
    "import os"
   ]
  },
  {
   "cell_type": "code",
   "execution_count": 2,
   "id": "74bbc17e",
   "metadata": {
    "execution": {
     "iopub.execute_input": "2021-04-23T23:57:05.721984Z",
     "iopub.status.busy": "2021-04-23T23:57:05.721432Z",
     "iopub.status.idle": "2021-04-23T23:57:05.854393Z",
     "shell.execute_reply": "2021-04-23T23:57:05.854808Z"
    }
   },
   "outputs": [],
   "source": [
    "import matplotlib.pyplot as plt"
   ]
  },
  {
   "cell_type": "code",
   "execution_count": 3,
   "id": "ee6d55f2",
   "metadata": {
    "execution": {
     "iopub.execute_input": "2021-04-23T23:57:05.857937Z",
     "iopub.status.busy": "2021-04-23T23:57:05.857460Z",
     "iopub.status.idle": "2021-04-23T23:57:05.862420Z",
     "shell.execute_reply": "2021-04-23T23:57:05.862773Z"
    }
   },
   "outputs": [],
   "source": [
    "import trove.build"
   ]
  },
  {
   "cell_type": "markdown",
   "id": "81b8398b",
   "metadata": {},
   "source": [
    "# Parameters"
   ]
  },
  {
   "cell_type": "code",
   "execution_count": 4,
   "id": "6ce5e5f4",
   "metadata": {
    "execution": {
     "iopub.execute_input": "2021-04-23T23:57:05.865947Z",
     "iopub.status.busy": "2021-04-23T23:57:05.865344Z",
     "iopub.status.idle": "2021-04-23T23:57:05.868310Z",
     "shell.execute_reply": "2021-04-23T23:57:05.868685Z"
    }
   },
   "outputs": [],
   "source": [
    "pm = trove.build.link_params_to_config(\n",
    "    config_fp = './tests/examples/midway/midway.trove',\n",
    ")"
   ]
  },
  {
   "cell_type": "markdown",
   "id": "ce92f182",
   "metadata": {},
   "source": [
    "# Load Data"
   ]
  },
  {
   "cell_type": "code",
   "execution_count": 5,
   "id": "836557b1",
   "metadata": {
    "execution": {
     "iopub.execute_input": "2021-04-23T23:57:05.872535Z",
     "iopub.status.busy": "2021-04-23T23:57:05.871945Z",
     "iopub.status.idle": "2021-04-23T23:57:05.873547Z",
     "shell.execute_reply": "2021-04-23T23:57:05.873916Z"
    }
   },
   "outputs": [],
   "source": [
    "pre_fp = os.path.join( pm['used_data_dir'], 'pre.hdf5' )\n",
    "pre = h5py.File( pre_fp, 'r' )"
   ]
  },
  {
   "cell_type": "code",
   "execution_count": 6,
   "id": "b1671d2d",
   "metadata": {
    "execution": {
     "iopub.execute_input": "2021-04-23T23:57:05.876844Z",
     "iopub.status.busy": "2021-04-23T23:57:05.876363Z",
     "iopub.status.idle": "2021-04-23T23:57:05.877893Z",
     "shell.execute_reply": "2021-04-23T23:57:05.878229Z"
    }
   },
   "outputs": [],
   "source": [
    "main_fp = os.path.join( pm['used_data_dir'], 'main.hdf5' )\n",
    "main = h5py.File( pre_fp, 'r' )"
   ]
  },
  {
   "cell_type": "markdown",
   "id": "9084e060",
   "metadata": {},
   "source": [
    "# Analysis\n",
    "\n",
    "We'd like to compare the distribution of last digits pre- and post-raised to a power."
   ]
  },
  {
   "cell_type": "code",
   "execution_count": 7,
   "id": "b70b1d15",
   "metadata": {
    "execution": {
     "iopub.execute_input": "2021-04-23T23:57:05.881580Z",
     "iopub.status.busy": "2021-04-23T23:57:05.881119Z",
     "iopub.status.idle": "2021-04-23T23:57:05.882822Z",
     "shell.execute_reply": "2021-04-23T23:57:05.883158Z"
    }
   },
   "outputs": [],
   "source": [
    "rounded = np.floor( pre['numbers'][...] )"
   ]
  },
  {
   "cell_type": "code",
   "execution_count": 8,
   "id": "912256fc",
   "metadata": {
    "execution": {
     "iopub.execute_input": "2021-04-23T23:57:05.886223Z",
     "iopub.status.busy": "2021-04-23T23:57:05.885745Z",
     "iopub.status.idle": "2021-04-23T23:57:05.887312Z",
     "shell.execute_reply": "2021-04-23T23:57:05.887704Z"
    }
   },
   "outputs": [],
   "source": [
    "rounded_raised = np.floor( main['numbers'][...] )"
   ]
  },
  {
   "cell_type": "code",
   "execution_count": 9,
   "id": "4f59e818",
   "metadata": {
    "execution": {
     "iopub.execute_input": "2021-04-23T23:57:05.899333Z",
     "iopub.status.busy": "2021-04-23T23:57:05.898849Z",
     "iopub.status.idle": "2021-04-23T23:57:05.978992Z",
     "shell.execute_reply": "2021-04-23T23:57:05.979334Z"
    }
   },
   "outputs": [
    {
     "data": {
      "text/plain": [
       "<matplotlib.collections.PathCollection at 0x7fd24f9560a0>"
      ]
     },
     "execution_count": 1,
     "metadata": {},
     "output_type": "execute_result"
    },
    {
     "data": {
      "image/png": "[encoded data removed]",
      "text/plain": [
       "<Figure size 432x288 with 1 Axes>"
      ]
     },
     "metadata": {
      "needs_background": "light"
     },
     "output_type": "display_data"
    }
   ],
   "source": [
    "plt.scatter(\n",
    "    rounded,\n",
    "    rounded_raised\n",
    ")"
   ]
  },
  {
   "cell_type": "code",
   "execution_count": 10,
   "id": "bd4a9e06",
   "metadata": {
    "execution": {
     "iopub.execute_input": "2021-04-23T23:57:05.985020Z",
     "iopub.status.busy": "2021-04-23T23:57:05.984537Z",
     "iopub.status.idle": "2021-04-23T23:57:05.986469Z",
     "shell.execute_reply": "2021-04-23T23:57:05.985897Z"
    }
   },
   "outputs": [],
   "source": [
    "last = np.array([ _[-1] for _ in rounded.astype( int ).astype( str ) ]).astype( int )\n",
    "last_raised = np.array([ _[-1] for _ in rounded_raised.astype( int ).astype( str ) ]).astype( int )"
   ]
  },
  {
   "cell_type": "code",
   "execution_count": 11,
   "id": "7966207d",
   "metadata": {
    "execution": {
     "iopub.execute_input": "2021-04-23T23:57:06.020499Z",
     "iopub.status.busy": "2021-04-23T23:57:06.019770Z",
     "iopub.status.idle": "2021-04-23T23:57:06.185051Z",
     "shell.execute_reply": "2021-04-23T23:57:06.185393Z"
    }
   },
   "outputs": [
    {
     "data": {
      "image/png": "[encoded data removed]",
      "text/plain": [
       "<Figure size 432x288 with 1 Axes>"
      ]
     },
     "metadata": {
      "needs_background": "light"
     },
     "output_type": "display_data"
    }
   ],
   "source": [
    "fig = plt.figure()\n",
    "ax = plt.gca()\n",
    "\n",
    "_ = ax.hist(\n",
    "    last,\n",
    "    bins = np.linspace( 0.5, 9.5, 10 ),\n",
    "    histtype = 'step',\n",
    "    linewidth = 10,\n",
    "    color = 'b',\n",
    ")\n",
    "\n",
    "_ = ax.hist(\n",
    "    last_raised,\n",
    "    bins = np.linspace( 0.5, 9.5, 10 ),\n",
    "    histtype = 'step',\n",
    "    linewidth = 3,\n",
    "    color = 'r',\n",
    ")\n",
    "\n",
    "os.makedirs( pm['figure_dir'], exist_ok=True )\n",
    "savefile = os.path.join( pm['figure_dir'], 'last_digits_{}.pdf'.format( os.path.basename( pm['used_data_dir'] ) ) )\n",
    "plt.savefig( savefile, bbox_inches='tight' )"
   ]
  }
 ],
 "metadata": {
  "kernelspec": {
   "display_name": "Python 3",
   "language": "python",
   "name": "python3"
  },
  "language_info": {
   "codemirror_mode": {
    "name": "ipython",
    "version": 3
   },
   "file_extension": ".py",
   "mimetype": "text/x-python",
   "name": "python",
   "nbconvert_exporter": "python",
   "pygments_lexer": "ipython3",
   "version": "3.8.3"
  }
 },
 "nbformat": 4,
 "nbformat_minor": 5
}
